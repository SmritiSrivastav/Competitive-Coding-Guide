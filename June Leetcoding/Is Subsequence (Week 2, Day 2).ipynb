{
 "cells": [
  {
   "cell_type": "markdown",
   "metadata": {},
   "source": [
    "# June Leetcoding Challenge (WEEK 2, Day 2)\n",
    "\n",
    "# Is Subsequnce\n",
    "\n",
    "Given a string s and a string t, check if s is subsequence of t.\n",
    "\n",
    "A subsequence of a string is a new string which is formed from the original string by deleting some (can be none) of the characters without disturbing the relative positions of the remaining characters. (ie, \"ace\" is a subsequence of \"abcde\" while \"aec\" is not).\n",
    "\n",
    "Follow up:\n",
    "If there are lots of incoming S, say S1, S2, ... , Sk where k >= 1B, and you want to check one by one to see if T has its subsequence. In this scenario, how would you change your code?\n",
    "\n",
    "Credits:\n",
    "Special thanks to @pbrother for adding this problem and creating all test cases.\n",
    "\n",
    " \n",
    "\n",
    "Example 1:\n",
    "\n",
    "Input: s = \"abc\", t = \"ahbgdc\"\n",
    "Output: true\n",
    "Example 2:\n",
    "\n",
    "Input: s = \"axc\", t = \"ahbgdc\"\n",
    "Output: false"
   ]
  },
  {
   "cell_type": "code",
   "execution_count": 1,
   "metadata": {},
   "outputs": [
    {
     "data": {
      "text/plain": [
       "False"
      ]
     },
     "execution_count": 1,
     "metadata": {},
     "output_type": "execute_result"
    }
   ],
   "source": [
    "class Solution:\n",
    "    def isSubsequence(self, s, t):\n",
    "        if (s==\"\"):\n",
    "            return True\n",
    "        if(t==\"\"):\n",
    "            return False\n",
    "        k=0\n",
    "        for i in range(len(t)):\n",
    "            if(s[k]==t[i] and k<len(s)):\n",
    "                k+=1\n",
    "            if(k==len(s)):\n",
    "                return True\n",
    "        return False\n",
    "\n",
    "ob=Solution()\n",
    "ob.isSubsequence(\"axc\",\"ahbgdc\")"
   ]
  },
  {
   "cell_type": "code",
   "execution_count": null,
   "metadata": {},
   "outputs": [],
   "source": []
  }
 ],
 "metadata": {
  "kernelspec": {
   "display_name": "Python 3",
   "language": "python",
   "name": "python3"
  },
  "language_info": {
   "codemirror_mode": {
    "name": "ipython",
    "version": 3
   },
   "file_extension": ".py",
   "mimetype": "text/x-python",
   "name": "python",
   "nbconvert_exporter": "python",
   "pygments_lexer": "ipython3",
   "version": "3.6.5"
  }
 },
 "nbformat": 4,
 "nbformat_minor": 2
}
