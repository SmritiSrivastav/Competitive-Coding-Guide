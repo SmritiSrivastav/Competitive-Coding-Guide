{
 "cells": [
  {
   "cell_type": "markdown",
   "metadata": {},
   "source": [
    "# June Leetcoding Challenge (WEEK 1, DAY 4)\n",
    "Write a function that reverses a string. The input string is given as an array of characters char[].\n",
    "\n",
    "Do not allocate extra space for another array, you must do this by modifying the input array in-place with O(1) extra memory.\n",
    "\n",
    "You may assume all the characters consist of printable ascii characters.\n",
    "\n",
    " \n",
    "\n",
    "Example 1:\n",
    "\n",
    "Input: [\"h\",\"e\",\"l\",\"l\",\"o\"]\n",
    "Output: [\"o\",\"l\",\"l\",\"e\",\"h\"]\n",
    "Example 2:\n",
    "\n",
    "Input: [\"H\",\"a\",\"n\",\"n\",\"a\",\"h\"]\n",
    "Output: [\"h\",\"a\",\"n\",\"n\",\"a\",\"H\"]"
   ]
  },
  {
   "cell_type": "code",
   "execution_count": 4,
   "metadata": {},
   "outputs": [
    {
     "name": "stdout",
     "output_type": "stream",
     "text": [
      "['o', 'l', 'l', 'e', 'h']\n"
     ]
    }
   ],
   "source": [
    "'''LOGIC : Traverse the string or list till half of its length and keep on swapping the element that \n",
    "position with the element at the kth index position. kth position means the last position which moves\n",
    "towards the len(input)//2 position with every iteration.'''\n",
    "class Solution:\n",
    "    def reverseString(self,s):\n",
    "        \"\"\"\n",
    "        Do not return anything, modify s in-place instead.\n",
    "        \"\"\"\n",
    "        k=len(s)-1\n",
    "        for i in range(len(s)//2):\n",
    "            s[i],s[k]=s[k],s[i]\n",
    "            k-=1\n",
    "ob=Solution()\n",
    "l=[\"h\",\"e\",\"l\",\"l\",\"o\"]\n",
    "ob.reverseString(l)\n",
    "print(l)"
   ]
  },
  {
   "cell_type": "code",
   "execution_count": null,
   "metadata": {},
   "outputs": [],
   "source": []
  }
 ],
 "metadata": {
  "kernelspec": {
   "display_name": "Python 3",
   "language": "python",
   "name": "python3"
  },
  "language_info": {
   "codemirror_mode": {
    "name": "ipython",
    "version": 3
   },
   "file_extension": ".py",
   "mimetype": "text/x-python",
   "name": "python",
   "nbconvert_exporter": "python",
   "pygments_lexer": "ipython3",
   "version": "3.6.5"
  }
 },
 "nbformat": 4,
 "nbformat_minor": 2
}
