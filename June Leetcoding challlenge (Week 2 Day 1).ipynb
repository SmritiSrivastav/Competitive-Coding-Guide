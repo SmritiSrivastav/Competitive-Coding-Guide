{
 "cells": [
  {
   "cell_type": "code",
   "execution_count": 10,
   "metadata": {},
   "outputs": [
    {
     "name": "stdout",
     "output_type": "stream",
     "text": [
      "5\n",
      "4 -8\n",
      "3 -4\n",
      "2 -2\n",
      "1 -1\n",
      "true\n"
     ]
    }
   ],
   "source": [
    "\"\"\"LOGIC: if the last bit is 1 and the rest of the bits are 0 then the number is power of 2\n",
    "        eg: 10 ie 2; 100 (4); 1000 (8) etc.\"\"\"\n",
    "import math\n",
    "def powerOfTwo(n):\n",
    "    if(n<=0):\n",
    "        return False\n",
    "    nb=int(math.log2(abs(n)))+1\n",
    "    '''This is a calculation of number of bits \n",
    "    required to display that number in binary format. eg: 4:100 ie it needs 3 bits for its representation.'''\n",
    "    print(nb)\n",
    "    k=nb\n",
    "    '''decimal form of n is accessed here in RHS to LHS manner ie,100 is accessed as o->o->1 so if all the digits\n",
    "    are 0 and the last digit is 1 then the given number is a power of Two'''\n",
    "    for i in range(nb):\n",
    "        if(n&1):\n",
    "            if(k==1):\n",
    "                return True\n",
    "            return False\n",
    "        n>>=1\n",
    "        k-=1\n",
    "        print(k,n)\n",
    "print(powerOfTwo(-16))"
   ]
  },
  {
   "cell_type": "code",
   "execution_count": null,
   "metadata": {},
   "outputs": [],
   "source": []
  }
 ],
 "metadata": {
  "kernelspec": {
   "display_name": "Python 3",
   "language": "python",
   "name": "python3"
  },
  "language_info": {
   "codemirror_mode": {
    "name": "ipython",
    "version": 3
   },
   "file_extension": ".py",
   "mimetype": "text/x-python",
   "name": "python",
   "nbconvert_exporter": "python",
   "pygments_lexer": "ipython3",
   "version": "3.6.5"
  }
 },
 "nbformat": 4,
 "nbformat_minor": 2
}
