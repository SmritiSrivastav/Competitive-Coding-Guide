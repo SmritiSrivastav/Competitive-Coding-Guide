{
 "cells": [
  {
   "cell_type": "code",
   "execution_count": 10,
   "metadata": {},
   "outputs": [
    {
     "name": "stdout",
     "output_type": "stream",
     "text": [
      "5\n",
      "4 -8\n",
      "3 -4\n",
      "2 -2\n",
      "1 -1\n",
      "true\n"
     ]
    }
   ],
   "source": [
    "import math\n",
    "def powerOfTwo(n):\n",
    "    if(n<=0):\n",
    "        return False\n",
    "    nb=int(math.log2(abs(n)))+1\n",
    "    print(nb)\n",
    "    k=nb\n",
    "    for i in range(nb):\n",
    "        if(n&1):\n",
    "            if(k==1):\n",
    "                return True\n",
    "            return False\n",
    "        n>>=1\n",
    "        k-=1\n",
    "        print(k,n)\n",
    "print(powerOfTwo(-16))"
   ]
  },
  {
   "cell_type": "code",
   "execution_count": null,
   "metadata": {},
   "outputs": [],
   "source": []
  }
 ],
 "metadata": {
  "kernelspec": {
   "display_name": "Python 3",
   "language": "python",
   "name": "python3"
  },
  "language_info": {
   "codemirror_mode": {
    "name": "ipython",
    "version": 3
   },
   "file_extension": ".py",
   "mimetype": "text/x-python",
   "name": "python",
   "nbconvert_exporter": "python",
   "pygments_lexer": "ipython3",
   "version": "3.6.5"
  }
 },
 "nbformat": 4,
 "nbformat_minor": 2
}
