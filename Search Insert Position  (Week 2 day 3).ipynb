{
 "cells": [
  {
   "cell_type": "markdown",
   "metadata": {},
   "source": [
    "# June Leetcoding Challenge (Week 2, day 3)\n",
    "\n",
    "# Search Insert Position\n",
    "\n",
    "\n",
    "Given a sorted array and a target value, return the index if the target is found. If not, return the index where it would be if it were inserted in order.\n",
    "\n",
    "You may assume no duplicates in the array.\n",
    "\n",
    "Example 1:\n",
    "\n",
    "Input: [1,3,5,6], 5\n",
    "Output: 2\n",
    "Example 2:\n",
    "\n",
    "Input: [1,3,5,6], 2\n",
    "Output: 1\n",
    "Example 3:\n",
    "\n",
    "Input: [1,3,5,6], 7\n",
    "Output: 4\n",
    "Example 4:\n",
    "\n",
    "Input: [1,3,5,6], 0\n",
    "Output: 0"
   ]
  },
  {
   "cell_type": "code",
   "execution_count": 2,
   "metadata": {},
   "outputs": [
    {
     "data": {
      "text/plain": [
       "4"
      ]
     },
     "execution_count": 2,
     "metadata": {},
     "output_type": "execute_result"
    }
   ],
   "source": [
    "'''LOGIC : We don't need to do the extra work by actually inserting that element as just the \n",
    "position where it has to inserted is to be returned.\n",
    "Just find that position.\n",
    "If even the first element is greater than  or equal to the given element insert at position 0.\n",
    "If the target is greater than the last element return the last_index+1 which is len(nums).\n",
    "Else find the position by comparing values of adjacent elements.'''\n",
    "class Solution:\n",
    "    def searchInsert(self, nums, target):\n",
    "        if target<=nums[0]:\n",
    "            return 0\n",
    "        if target>nums[-1]:\n",
    "            return len(nums)\n",
    "        for i in range(len(nums)-1):\n",
    "            if(target>nums[i] and target<=nums[i+1]):\n",
    "                return i+1\n",
    "        \n",
    "obj=Solution()\n",
    "obj.searchInsert([1,2,3,4],5)"
   ]
  },
  {
   "cell_type": "code",
   "execution_count": null,
   "metadata": {},
   "outputs": [],
   "source": []
  }
 ],
 "metadata": {
  "kernelspec": {
   "display_name": "Python 3",
   "language": "python",
   "name": "python3"
  },
  "language_info": {
   "codemirror_mode": {
    "name": "ipython",
    "version": 3
   },
   "file_extension": ".py",
   "mimetype": "text/x-python",
   "name": "python",
   "nbconvert_exporter": "python",
   "pygments_lexer": "ipython3",
   "version": "3.6.5"
  }
 },
 "nbformat": 4,
 "nbformat_minor": 2
}
